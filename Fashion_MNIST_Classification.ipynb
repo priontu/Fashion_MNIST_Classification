{
  "cells": [
    {
      "cell_type": "markdown",
      "metadata": {
        "id": "view-in-github",
        "colab_type": "text"
      },
      "source": [
        "<a href=\"https://colab.research.google.com/github/priontu/Fashion_MNIST_Classification/blob/main/Fashion_MNIST_Classification.ipynb\" target=\"_parent\"><img src=\"https://colab.research.google.com/assets/colab-badge.svg\" alt=\"Open In Colab\"/></a>"
      ]
    },
    {
      "cell_type": "code",
      "execution_count": 206,
      "metadata": {
        "id": "4ZCNKIE6gl0t"
      },
      "outputs": [],
      "source": [
        "import tensorflow as tf\n",
        "from tensorflow import keras\n",
        "import matplotlib.pyplot as plt\n",
        "import numpy as np"
      ]
    },
    {
      "cell_type": "code",
      "execution_count": 207,
      "metadata": {
        "id": "8IDShunIgl0t",
        "outputId": "ae2c6e7c-b3d9-4546-c497-67716429b951",
        "colab": {
          "base_uri": "https://localhost:8080/",
          "height": 35
        }
      },
      "outputs": [
        {
          "output_type": "execute_result",
          "data": {
            "text/plain": [
              "'2.15.0'"
            ],
            "application/vnd.google.colaboratory.intrinsic+json": {
              "type": "string"
            }
          },
          "metadata": {},
          "execution_count": 207
        }
      ],
      "source": [
        "tf.__version__"
      ]
    },
    {
      "cell_type": "markdown",
      "metadata": {
        "id": "SkLD8VwTgl0u"
      },
      "source": [
        "Let's start by loading the fashion MNIST dataset. Keras has a number of functions to load popular datasets in `keras.datasets`. The dataset is already split for you between a training set and a test set, but it can be useful to split the training set further to have a validation set:"
      ]
    },
    {
      "cell_type": "code",
      "execution_count": 208,
      "metadata": {
        "id": "tTW_5nk7gl0u"
      },
      "outputs": [],
      "source": [
        "fashion_mnist = keras.datasets.fashion_mnist\n",
        "(X_train_full, y_train_full), (X_test, y_test) = fashion_mnist.load_data()"
      ]
    },
    {
      "cell_type": "markdown",
      "metadata": {
        "id": "nT7IHZ_zgl0u"
      },
      "source": [
        "The training set contains 60,000 grayscale images, each 28x28 pixels:"
      ]
    },
    {
      "cell_type": "code",
      "execution_count": 209,
      "metadata": {
        "id": "MaYKwJ5Mgl0u",
        "outputId": "4380279d-a809-4627-8180-1c9ae21b3c5b",
        "colab": {
          "base_uri": "https://localhost:8080/"
        }
      },
      "outputs": [
        {
          "output_type": "execute_result",
          "data": {
            "text/plain": [
              "(60000, 28, 28)"
            ]
          },
          "metadata": {},
          "execution_count": 209
        }
      ],
      "source": [
        "X_train_full.shape"
      ]
    },
    {
      "cell_type": "markdown",
      "metadata": {
        "id": "QJ3qRZDggl0u"
      },
      "source": [
        "Each pixel intensity is represented as a byte (0 to 255):"
      ]
    },
    {
      "cell_type": "code",
      "execution_count": 210,
      "metadata": {
        "id": "_aT64gTdgl0u",
        "outputId": "2b0702f9-df9a-4e8c-9d7e-61b875a16592",
        "colab": {
          "base_uri": "https://localhost:8080/"
        }
      },
      "outputs": [
        {
          "output_type": "execute_result",
          "data": {
            "text/plain": [
              "dtype('uint8')"
            ]
          },
          "metadata": {},
          "execution_count": 210
        }
      ],
      "source": [
        "X_train_full.dtype"
      ]
    },
    {
      "cell_type": "markdown",
      "metadata": {
        "id": "H7N9xJOxgl0v"
      },
      "source": [
        "Let's split the full training set into a validation set and a (smaller) training set. We also scale the pixel intensities down to the 0-1 range and convert them to floats, by dividing by 255."
      ]
    },
    {
      "cell_type": "code",
      "execution_count": 211,
      "metadata": {
        "id": "ouL6Ul-Dgl0v"
      },
      "outputs": [],
      "source": [
        "X_valid, X_train = X_train_full[:5000] / 255., X_train_full[5000:] / 255.\n",
        "y_valid, y_train = y_train_full[:5000], y_train_full[5000:]\n",
        "X_test = X_test / 255."
      ]
    },
    {
      "cell_type": "markdown",
      "metadata": {
        "id": "7ZxlonGRgl0v"
      },
      "source": [
        "You can plot an image using Matplotlib's `imshow()` function, with a `'binary'`\n",
        " color map:"
      ]
    },
    {
      "cell_type": "code",
      "execution_count": 212,
      "metadata": {
        "id": "RFHLBIpggl0v",
        "outputId": "4fc446fd-6d06-405d-cd0f-7a3d3487c61b",
        "colab": {
          "base_uri": "https://localhost:8080/",
          "height": 406
        }
      },
      "outputs": [
        {
          "output_type": "display_data",
          "data": {
            "text/plain": [
              "<Figure size 640x480 with 1 Axes>"
            ],
            "image/png": "[encoded data removed]"
          },
          "metadata": {}
        }
      ],
      "source": [
        "plt.imshow(X_train[0], cmap=\"binary\")\n",
        "plt.axis('off')\n",
        "plt.show()"
      ]
    },
    {
      "cell_type": "markdown",
      "metadata": {
        "id": "5kLsUuyFgl0v"
      },
      "source": [
        "The labels are the class IDs (represented as uint8), from 0 to 9:"
      ]
    },
    {
      "cell_type": "code",
      "execution_count": 213,
      "metadata": {
        "id": "E-VQzdUQgl0v",
        "outputId": "40a0a816-aee7-404d-d700-07b49d6bc0e3",
        "colab": {
          "base_uri": "https://localhost:8080/"
        }
      },
      "outputs": [
        {
          "output_type": "execute_result",
          "data": {
            "text/plain": [
              "array([4, 0, 7, ..., 3, 0, 5], dtype=uint8)"
            ]
          },
          "metadata": {},
          "execution_count": 213
        }
      ],
      "source": [
        "y_train"
      ]
    },
    {
      "cell_type": "markdown",
      "metadata": {
        "id": "TS6k1LCCgl0w"
      },
      "source": [
        "Here are the corresponding class names:"
      ]
    },
    {
      "cell_type": "code",
      "execution_count": 214,
      "metadata": {
        "id": "K2lCFjjvgl0w"
      },
      "outputs": [],
      "source": [
        "class_names = [\"T-shirt/top\", \"Trouser\", \"Pullover\", \"Dress\", \"Coat\",\n",
        "               \"Sandal\", \"Shirt\", \"Sneaker\", \"Bag\", \"Ankle boot\"]"
      ]
    },
    {
      "cell_type": "markdown",
      "metadata": {
        "id": "unPi0V9Egl0w"
      },
      "source": [
        "So the first image in the training set is a coat:"
      ]
    },
    {
      "cell_type": "code",
      "execution_count": 215,
      "metadata": {
        "id": "YvXcGkwrgl0w",
        "outputId": "de7c1612-1bf7-42d4-c798-d7f1396ee541",
        "colab": {
          "base_uri": "https://localhost:8080/",
          "height": 35
        }
      },
      "outputs": [
        {
          "output_type": "execute_result",
          "data": {
            "text/plain": [
              "'Coat'"
            ],
            "application/vnd.google.colaboratory.intrinsic+json": {
              "type": "string"
            }
          },
          "metadata": {},
          "execution_count": 215
        }
      ],
      "source": [
        "class_names[y_train[0]]"
      ]
    },
    {
      "cell_type": "markdown",
      "metadata": {
        "id": "lcZIZODSgl0w"
      },
      "source": [
        "The validation set contains 5,000 images, and the test set contains 10,000 images:"
      ]
    },
    {
      "cell_type": "code",
      "execution_count": 216,
      "metadata": {
        "id": "9w88X45Egl0w",
        "outputId": "87610d81-073c-4959-b175-f1aaeb078c47",
        "colab": {
          "base_uri": "https://localhost:8080/"
        }
      },
      "outputs": [
        {
          "output_type": "execute_result",
          "data": {
            "text/plain": [
              "(5000, 28, 28)"
            ]
          },
          "metadata": {},
          "execution_count": 216
        }
      ],
      "source": [
        "X_valid.shape"
      ]
    },
    {
      "cell_type": "code",
      "execution_count": 217,
      "metadata": {
        "id": "0dCTAEG8gl0w",
        "outputId": "0dd3da5d-78a8-41f4-ffd7-de2af1cbf28f",
        "colab": {
          "base_uri": "https://localhost:8080/"
        }
      },
      "outputs": [
        {
          "output_type": "execute_result",
          "data": {
            "text/plain": [
              "(10000, 28, 28)"
            ]
          },
          "metadata": {},
          "execution_count": 217
        }
      ],
      "source": [
        "X_test.shape"
      ]
    },
    {
      "cell_type": "markdown",
      "metadata": {
        "id": "QV5uFo3Lgl01"
      },
      "source": [
        "Let's take a look at a sample of the images in the dataset:"
      ]
    },
    {
      "cell_type": "code",
      "execution_count": 218,
      "metadata": {
        "id": "gZyBwX3Agl01"
      },
      "outputs": [],
      "source": [
        "# n_rows = 4\n",
        "# n_cols = 10\n",
        "# plt.figure(figsize=(n_cols * 1.2, n_rows * 1.2))\n",
        "# for row in range(n_rows):\n",
        "#     for col in range(n_cols):\n",
        "#         index = n_cols * row + col\n",
        "#         plt.subplot(n_rows, n_cols, index + 1)\n",
        "#         plt.imshow(X_train[index], cmap=\"binary\", interpolation=\"nearest\")\n",
        "#         plt.axis('off')\n",
        "#         plt.title(class_names[y_train[index]], fontsize=12)\n",
        "# plt.subplots_adjust(wspace=0.2, hspace=0.5)\n",
        "# save_fig('fashion_mnist_plot', tight_layout=False)\n",
        "# plt.show()"
      ]
    },
    {
      "cell_type": "code",
      "execution_count": 219,
      "metadata": {
        "id": "eWLPurlogl01"
      },
      "outputs": [],
      "source": [
        "# model = keras.models.Sequential()\n",
        "# model.add(keras.layers.Flatten(input_shape=[28, 28]))\n",
        "# model.add(keras.layers.Dense(30, activation=\"relu\"))\n",
        "# model.add(keras.layers.Dense(10, activation=\"relu\"))\n",
        "# model.add(keras.layers.Dense(10, activation=\"softmax\"))"
      ]
    },
    {
      "cell_type": "code",
      "execution_count": 220,
      "metadata": {
        "id": "Mxi6tb-Mgl01"
      },
      "outputs": [],
      "source": [
        "keras.backend.clear_session()\n",
        "np.random.seed(42)\n",
        "tf.random.set_seed(42)"
      ]
    },
    {
      "cell_type": "code",
      "execution_count": 221,
      "metadata": {
        "id": "fRCuZM3fgl02"
      },
      "outputs": [],
      "source": [
        "model = keras.models.Sequential([\n",
        "    keras.layers.Flatten(input_shape=[28, 28]),\n",
        "    keras.layers.Dense(12, activation=\"relu\"),\n",
        "    keras.layers.Dense(12, activation=\"relu\"),\n",
        "    keras.layers.Dense(12, activation=\"relu\"),\n",
        "    keras.layers.Dense(10, activation=\"relu\"),\n",
        "    keras.layers.Dense(10, activation=\"softmax\")\n",
        "])"
      ]
    },
    {
      "cell_type": "code",
      "execution_count": 222,
      "metadata": {
        "id": "pIAyhrbOgl02",
        "outputId": "6792f86b-6559-495e-ae88-24508f3c71e7",
        "colab": {
          "base_uri": "https://localhost:8080/"
        }
      },
      "outputs": [
        {
          "output_type": "execute_result",
          "data": {
            "text/plain": [
              "[<keras.src.layers.reshaping.flatten.Flatten at 0x7ef870546da0>,\n",
              " <keras.src.layers.core.dense.Dense at 0x7ef8706cbb80>,\n",
              " <keras.src.layers.core.dense.Dense at 0x7ef8706cb2e0>,\n",
              " <keras.src.layers.core.dense.Dense at 0x7ef8706cbca0>,\n",
              " <keras.src.layers.core.dense.Dense at 0x7ef8706cb520>,\n",
              " <keras.src.layers.core.dense.Dense at 0x7ef870572b30>]"
            ]
          },
          "metadata": {},
          "execution_count": 222
        }
      ],
      "source": [
        "model.layers"
      ]
    },
    {
      "cell_type": "code",
      "execution_count": 223,
      "metadata": {
        "id": "PDRU3jGPgl02",
        "outputId": "f22cd2bd-25f1-46d1-853e-214ef8604298",
        "colab": {
          "base_uri": "https://localhost:8080/"
        }
      },
      "outputs": [
        {
          "output_type": "stream",
          "name": "stdout",
          "text": [
            "Model: \"sequential\"\n",
            "_________________________________________________________________\n",
            " Layer (type)                Output Shape              Param #   \n",
            "=================================================================\n",
            " flatten (Flatten)           (None, 784)               0         \n",
            "                                                                 \n",
            " dense (Dense)               (None, 12)                9420      \n",
            "                                                                 \n",
            " dense_1 (Dense)             (None, 12)                156       \n",
            "                                                                 \n",
            " dense_2 (Dense)             (None, 12)                156       \n",
            "                                                                 \n",
            " dense_3 (Dense)             (None, 10)                130       \n",
            "                                                                 \n",
            " dense_4 (Dense)             (None, 10)                110       \n",
            "                                                                 \n",
            "=================================================================\n",
            "Total params: 9972 (38.95 KB)\n",
            "Trainable params: 9972 (38.95 KB)\n",
            "Non-trainable params: 0 (0.00 Byte)\n",
            "_________________________________________________________________\n"
          ]
        }
      ],
      "source": [
        "model.summary()"
      ]
    },
    {
      "cell_type": "code",
      "execution_count": 224,
      "metadata": {
        "id": "UJBTREi-gl02",
        "outputId": "132189aa-71b2-47b1-f200-fe5c59b8b0a2",
        "colab": {
          "base_uri": "https://localhost:8080/",
          "height": 754
        }
      },
      "outputs": [
        {
          "output_type": "execute_result",
          "data": {
            "image/png": "[encoded data removed]",
            "text/plain": [
              "<IPython.core.display.Image object>"
            ]
          },
          "metadata": {},
          "execution_count": 224
        }
      ],
      "source": [
        "keras.utils.plot_model(model, \"my_fashion_mnist_model.png\", show_shapes=True)"
      ]
    },
    {
      "cell_type": "code",
      "execution_count": 225,
      "metadata": {
        "id": "NvUp5FUSgl02",
        "outputId": "570a55e7-e63f-4f8c-b5dc-bbf1f6827028",
        "colab": {
          "base_uri": "https://localhost:8080/",
          "height": 35
        }
      },
      "outputs": [
        {
          "output_type": "execute_result",
          "data": {
            "text/plain": [
              "'dense'"
            ],
            "application/vnd.google.colaboratory.intrinsic+json": {
              "type": "string"
            }
          },
          "metadata": {},
          "execution_count": 225
        }
      ],
      "source": [
        "hidden1 = model.layers[1]\n",
        "hidden1.name"
      ]
    },
    {
      "cell_type": "code",
      "execution_count": 226,
      "metadata": {
        "id": "KBkorbCQgl03",
        "outputId": "2394f774-7690-4fc8-cc34-275fe289fe02",
        "colab": {
          "base_uri": "https://localhost:8080/"
        }
      },
      "outputs": [
        {
          "output_type": "execute_result",
          "data": {
            "text/plain": [
              "True"
            ]
          },
          "metadata": {},
          "execution_count": 226
        }
      ],
      "source": [
        "model.get_layer(hidden1.name) is hidden1"
      ]
    },
    {
      "cell_type": "code",
      "execution_count": 227,
      "metadata": {
        "id": "34nFcRCQgl03"
      },
      "outputs": [],
      "source": [
        "weights, biases = hidden1.get_weights()"
      ]
    },
    {
      "cell_type": "code",
      "execution_count": 228,
      "metadata": {
        "id": "8FAHFo-Ogl03",
        "outputId": "b2d28c7d-7a94-45f9-df89-896a4709b69d",
        "colab": {
          "base_uri": "https://localhost:8080/"
        }
      },
      "outputs": [
        {
          "output_type": "execute_result",
          "data": {
            "text/plain": [
              "array([[-0.04723557,  0.08193355, -0.02362681, ...,  0.03117409,\n",
              "         0.05607658,  0.03455956],\n",
              "       [-0.06162801, -0.02150621,  0.03754257, ..., -0.04426244,\n",
              "        -0.01128494, -0.05944144],\n",
              "       [-0.03012038,  0.06458003, -0.0189172 , ..., -0.02731225,\n",
              "         0.04411539, -0.00645684],\n",
              "       ...,\n",
              "       [-0.05517855, -0.08171101, -0.03667596, ...,  0.08204263,\n",
              "        -0.05668864,  0.00439228],\n",
              "       [-0.00479333,  0.00982248,  0.00546619, ..., -0.01634811,\n",
              "         0.05935455, -0.0208731 ],\n",
              "       [ 0.01752769, -0.05824044,  0.01246186, ..., -0.02631372,\n",
              "        -0.06966824, -0.0789268 ]], dtype=float32)"
            ]
          },
          "metadata": {},
          "execution_count": 228
        }
      ],
      "source": [
        "weights"
      ]
    },
    {
      "cell_type": "code",
      "execution_count": 229,
      "metadata": {
        "id": "aP76kArxgl03",
        "outputId": "c11d61bc-6b3d-4c52-8c96-066f4deca333",
        "colab": {
          "base_uri": "https://localhost:8080/"
        }
      },
      "outputs": [
        {
          "output_type": "execute_result",
          "data": {
            "text/plain": [
              "(784, 12)"
            ]
          },
          "metadata": {},
          "execution_count": 229
        }
      ],
      "source": [
        "weights.shape"
      ]
    },
    {
      "cell_type": "code",
      "execution_count": 230,
      "metadata": {
        "id": "1Se9IloMgl03",
        "outputId": "1cf4391c-e017-4d67-eac4-264a1abe9641",
        "colab": {
          "base_uri": "https://localhost:8080/"
        }
      },
      "outputs": [
        {
          "output_type": "execute_result",
          "data": {
            "text/plain": [
              "array([0., 0., 0., 0., 0., 0., 0., 0., 0., 0., 0., 0.], dtype=float32)"
            ]
          },
          "metadata": {},
          "execution_count": 230
        }
      ],
      "source": [
        "biases"
      ]
    },
    {
      "cell_type": "code",
      "execution_count": 231,
      "metadata": {
        "id": "s1lURazUgl04",
        "outputId": "f4327466-ada8-49f1-e8fb-5c361f954d72",
        "colab": {
          "base_uri": "https://localhost:8080/"
        }
      },
      "outputs": [
        {
          "output_type": "execute_result",
          "data": {
            "text/plain": [
              "(12,)"
            ]
          },
          "metadata": {},
          "execution_count": 231
        }
      ],
      "source": [
        "biases.shape"
      ]
    },
    {
      "cell_type": "code",
      "execution_count": 232,
      "metadata": {
        "id": "iZufpZdhgl04"
      },
      "outputs": [],
      "source": [
        "checkpoint_dir = \"/\"\n",
        "# cpkt = tf.train.Checkpoint(optimizer = \"adam\", model = model)\n",
        "# manager = tf.train.CheckpointManager(cpkt, directory = checkpoint_dir, max_to_keep=5)\n",
        "# manager.restore_or_initialize()\n",
        "\n",
        "model.compile(loss=\"sparse_categorical_crossentropy\",\n",
        "              optimizer=\"adam\",\n",
        "              metrics=[\"accuracy\"])\n",
        "\n",
        "\n",
        "checkpoint_callback = tf.keras.callbacks.ModelCheckpoint(checkpoint_dir, save_best_only = True)\n",
        "early_stopping_callback = tf.keras.callbacks.EarlyStopping(patience = 15, restore_best_weights=True)\n",
        "\n",
        "callbacks = [early_stopping_callback, checkpoint_callback]"
      ]
    },
    {
      "cell_type": "code",
      "execution_count": 233,
      "metadata": {
        "id": "U5jVAowXgl04",
        "outputId": "3e46bfa3-9912-4652-951c-fddfed93ba1b",
        "colab": {
          "base_uri": "https://localhost:8080/"
        }
      },
      "outputs": [
        {
          "output_type": "stream",
          "name": "stdout",
          "text": [
            "Epoch 1/100\n",
            "1719/1719 - 6s - loss: 0.8114 - accuracy: 0.6983 - val_loss: 0.5163 - val_accuracy: 0.8222 - 6s/epoch - 3ms/step\n",
            "Epoch 2/100\n",
            "1719/1719 - 6s - loss: 0.5130 - accuracy: 0.8182 - val_loss: 0.4844 - val_accuracy: 0.8296 - 6s/epoch - 3ms/step\n",
            "Epoch 3/100\n",
            "1719/1719 - 4s - loss: 0.4689 - accuracy: 0.8319 - val_loss: 0.4282 - val_accuracy: 0.8456 - 4s/epoch - 2ms/step\n",
            "Epoch 4/100\n",
            "1719/1719 - 4s - loss: 0.4386 - accuracy: 0.8440 - val_loss: 0.4183 - val_accuracy: 0.8478 - 4s/epoch - 2ms/step\n",
            "Epoch 5/100\n",
            "1719/1719 - 5s - loss: 0.4196 - accuracy: 0.8499 - val_loss: 0.4018 - val_accuracy: 0.8522 - 5s/epoch - 3ms/step\n",
            "Epoch 6/100\n",
            "1719/1719 - 3s - loss: 0.4060 - accuracy: 0.8545 - val_loss: 0.4140 - val_accuracy: 0.8508 - 3s/epoch - 2ms/step\n",
            "Epoch 7/100\n",
            "1719/1719 - 5s - loss: 0.3926 - accuracy: 0.8617 - val_loss: 0.3928 - val_accuracy: 0.8596 - 5s/epoch - 3ms/step\n",
            "Epoch 8/100\n",
            "1719/1719 - 7s - loss: 0.3834 - accuracy: 0.8613 - val_loss: 0.3908 - val_accuracy: 0.8644 - 7s/epoch - 4ms/step\n",
            "Epoch 9/100\n",
            "1719/1719 - 20s - loss: 0.3776 - accuracy: 0.8639 - val_loss: 0.3723 - val_accuracy: 0.8696 - 20s/epoch - 12ms/step\n",
            "Epoch 10/100\n",
            "1719/1719 - 6s - loss: 0.3701 - accuracy: 0.8665 - val_loss: 0.3683 - val_accuracy: 0.8650 - 6s/epoch - 3ms/step\n",
            "Epoch 11/100\n",
            "1719/1719 - 4s - loss: 0.3635 - accuracy: 0.8700 - val_loss: 0.3660 - val_accuracy: 0.8678 - 4s/epoch - 3ms/step\n",
            "Epoch 12/100\n",
            "1719/1719 - 5s - loss: 0.3584 - accuracy: 0.8707 - val_loss: 0.3696 - val_accuracy: 0.8684 - 5s/epoch - 3ms/step\n",
            "Epoch 13/100\n",
            "1719/1719 - 4s - loss: 0.3540 - accuracy: 0.8732 - val_loss: 0.4212 - val_accuracy: 0.8490 - 4s/epoch - 2ms/step\n",
            "Epoch 14/100\n",
            "1719/1719 - 4s - loss: 0.3503 - accuracy: 0.8743 - val_loss: 0.3993 - val_accuracy: 0.8542 - 4s/epoch - 2ms/step\n",
            "Epoch 15/100\n",
            "1719/1719 - 4s - loss: 0.3453 - accuracy: 0.8755 - val_loss: 0.3865 - val_accuracy: 0.8626 - 4s/epoch - 2ms/step\n",
            "Epoch 16/100\n",
            "1719/1719 - 4s - loss: 0.3433 - accuracy: 0.8760 - val_loss: 0.3675 - val_accuracy: 0.8670 - 4s/epoch - 2ms/step\n",
            "Epoch 17/100\n",
            "1719/1719 - 4s - loss: 0.3368 - accuracy: 0.8771 - val_loss: 0.3647 - val_accuracy: 0.8704 - 4s/epoch - 2ms/step\n",
            "Epoch 18/100\n",
            "1719/1719 - 4s - loss: 0.3369 - accuracy: 0.8775 - val_loss: 0.3739 - val_accuracy: 0.8708 - 4s/epoch - 2ms/step\n",
            "Epoch 19/100\n",
            "1719/1719 - 5s - loss: 0.3323 - accuracy: 0.8786 - val_loss: 0.3705 - val_accuracy: 0.8668 - 5s/epoch - 3ms/step\n",
            "Epoch 20/100\n",
            "1719/1719 - 4s - loss: 0.3300 - accuracy: 0.8799 - val_loss: 0.3593 - val_accuracy: 0.8722 - 4s/epoch - 2ms/step\n",
            "Epoch 21/100\n",
            "1719/1719 - 3s - loss: 0.3267 - accuracy: 0.8819 - val_loss: 0.3645 - val_accuracy: 0.8714 - 3s/epoch - 2ms/step\n",
            "Epoch 22/100\n",
            "1719/1719 - 5s - loss: 0.3257 - accuracy: 0.8814 - val_loss: 0.3636 - val_accuracy: 0.8724 - 5s/epoch - 3ms/step\n",
            "Epoch 23/100\n",
            "1719/1719 - 4s - loss: 0.3231 - accuracy: 0.8818 - val_loss: 0.3772 - val_accuracy: 0.8700 - 4s/epoch - 2ms/step\n",
            "Epoch 24/100\n",
            "1719/1719 - 4s - loss: 0.3203 - accuracy: 0.8837 - val_loss: 0.3659 - val_accuracy: 0.8662 - 4s/epoch - 2ms/step\n",
            "Epoch 25/100\n",
            "1719/1719 - 5s - loss: 0.3178 - accuracy: 0.8835 - val_loss: 0.3734 - val_accuracy: 0.8690 - 5s/epoch - 3ms/step\n",
            "Epoch 26/100\n",
            "1719/1719 - 3s - loss: 0.3178 - accuracy: 0.8837 - val_loss: 0.3718 - val_accuracy: 0.8698 - 3s/epoch - 2ms/step\n",
            "Epoch 27/100\n",
            "1719/1719 - 3s - loss: 0.3141 - accuracy: 0.8839 - val_loss: 0.3680 - val_accuracy: 0.8686 - 3s/epoch - 2ms/step\n",
            "Epoch 28/100\n",
            "1719/1719 - 4s - loss: 0.3135 - accuracy: 0.8849 - val_loss: 0.3679 - val_accuracy: 0.8666 - 4s/epoch - 2ms/step\n",
            "Epoch 29/100\n",
            "1719/1719 - 4s - loss: 0.3107 - accuracy: 0.8864 - val_loss: 0.3701 - val_accuracy: 0.8666 - 4s/epoch - 3ms/step\n",
            "Epoch 30/100\n",
            "1719/1719 - 4s - loss: 0.3102 - accuracy: 0.8867 - val_loss: 0.3684 - val_accuracy: 0.8722 - 4s/epoch - 2ms/step\n",
            "Epoch 31/100\n",
            "1719/1719 - 4s - loss: 0.3078 - accuracy: 0.8866 - val_loss: 0.3756 - val_accuracy: 0.8660 - 4s/epoch - 2ms/step\n",
            "Epoch 32/100\n",
            "1719/1719 - 5s - loss: 0.3063 - accuracy: 0.8890 - val_loss: 0.3616 - val_accuracy: 0.8736 - 5s/epoch - 3ms/step\n",
            "Epoch 33/100\n",
            "1719/1719 - 4s - loss: 0.3063 - accuracy: 0.8875 - val_loss: 0.3622 - val_accuracy: 0.8738 - 4s/epoch - 2ms/step\n",
            "Epoch 34/100\n",
            "1719/1719 - 4s - loss: 0.3044 - accuracy: 0.8864 - val_loss: 0.3995 - val_accuracy: 0.8644 - 4s/epoch - 2ms/step\n",
            "Epoch 35/100\n",
            "1719/1719 - 5s - loss: 0.3032 - accuracy: 0.8881 - val_loss: 0.3822 - val_accuracy: 0.8626 - 5s/epoch - 3ms/step\n"
          ]
        }
      ],
      "source": [
        "history = model.fit(X_train, y_train, epochs=100,\n",
        "                    verbose = 2,\n",
        "                    validation_data=(X_valid, y_valid),\n",
        "                    callbacks = callbacks)"
      ]
    },
    {
      "cell_type": "code",
      "execution_count": 234,
      "metadata": {
        "id": "t4Q1jC0Igl05",
        "outputId": "08f2eda3-4c01-4d28-c143-1506ff4deca2",
        "colab": {
          "base_uri": "https://localhost:8080/"
        }
      },
      "outputs": [
        {
          "output_type": "execute_result",
          "data": {
            "text/plain": [
              "{'verbose': 2, 'epochs': 100, 'steps': 1719}"
            ]
          },
          "metadata": {},
          "execution_count": 234
        }
      ],
      "source": [
        "history.params"
      ]
    },
    {
      "cell_type": "code",
      "execution_count": 235,
      "metadata": {
        "id": "UjjDBfJOgl05",
        "outputId": "280d8787-2348-4e2f-ee6c-a3454734a9b0",
        "colab": {
          "base_uri": "https://localhost:8080/"
        }
      },
      "outputs": [
        {
          "output_type": "stream",
          "name": "stdout",
          "text": [
            "[0, 1, 2, 3, 4, 5, 6, 7, 8, 9, 10, 11, 12, 13, 14, 15, 16, 17, 18, 19, 20, 21, 22, 23, 24, 25, 26, 27, 28, 29, 30, 31, 32, 33, 34]\n"
          ]
        }
      ],
      "source": [
        "print(history.epoch)"
      ]
    },
    {
      "cell_type": "code",
      "execution_count": 236,
      "metadata": {
        "id": "W13G3ybAgl05",
        "outputId": "4858f2c2-3bbf-4dd7-ee99-94f2e3df0d5f",
        "colab": {
          "base_uri": "https://localhost:8080/"
        }
      },
      "outputs": [
        {
          "output_type": "execute_result",
          "data": {
            "text/plain": [
              "dict_keys(['loss', 'accuracy', 'val_loss', 'val_accuracy'])"
            ]
          },
          "metadata": {},
          "execution_count": 236
        }
      ],
      "source": [
        "history.history.keys()"
      ]
    },
    {
      "cell_type": "code",
      "execution_count": 237,
      "metadata": {
        "id": "Oc2989_Sgl05",
        "outputId": "e44ea72f-b0d0-4f03-df42-8a86f5a996b2",
        "colab": {
          "base_uri": "https://localhost:8080/",
          "height": 451
        }
      },
      "outputs": [
        {
          "output_type": "display_data",
          "data": {
            "text/plain": [
              "<Figure size 800x500 with 1 Axes>"
            ],
            "image/png": "[encoded data removed]"
          },
          "metadata": {}
        }
      ],
      "source": [
        "import pandas as pd\n",
        "\n",
        "pd.DataFrame(history.history).plot(figsize=(8, 5))\n",
        "plt.grid(True)\n",
        "plt.gca().set_ylim(0, 1)\n",
        "# save_fig(\"keras_learning_curves_plot\")\n",
        "plt.show()"
      ]
    },
    {
      "cell_type": "code",
      "execution_count": 238,
      "metadata": {
        "id": "YEyJT_nLgl05",
        "outputId": "01f884ce-2c04-41dc-b549-f2629dca7f09",
        "colab": {
          "base_uri": "https://localhost:8080/"
        }
      },
      "outputs": [
        {
          "output_type": "stream",
          "name": "stdout",
          "text": [
            "313/313 [==============================] - 1s 3ms/step - loss: 0.3982 - accuracy: 0.8568\n"
          ]
        },
        {
          "output_type": "execute_result",
          "data": {
            "text/plain": [
              "[0.398248553276062, 0.8568000197410583]"
            ]
          },
          "metadata": {},
          "execution_count": 238
        }
      ],
      "source": [
        "model.evaluate(X_test, y_test)"
      ]
    },
    {
      "cell_type": "code",
      "execution_count": 239,
      "metadata": {
        "id": "CbO9ZMHKgl06",
        "outputId": "dade3277-93e2-4cc2-ae20-ba79a25aa7fc",
        "colab": {
          "base_uri": "https://localhost:8080/"
        }
      },
      "outputs": [
        {
          "output_type": "stream",
          "name": "stdout",
          "text": [
            "1/1 [==============================] - 0s 189ms/step\n"
          ]
        },
        {
          "output_type": "execute_result",
          "data": {
            "text/plain": [
              "array([[0.  , 0.  , 0.  , 0.  , 0.  , 0.02, 0.  , 0.08, 0.  , 0.89],\n",
              "       [0.  , 0.  , 0.95, 0.  , 0.03, 0.  , 0.02, 0.  , 0.  , 0.  ],\n",
              "       [0.  , 1.  , 0.  , 0.  , 0.  , 0.  , 0.  , 0.  , 0.  , 0.  ]],\n",
              "      dtype=float32)"
            ]
          },
          "metadata": {},
          "execution_count": 239
        }
      ],
      "source": [
        "X_new = X_test[:3]\n",
        "y_proba = model.predict(X_new)\n",
        "y_proba.round(2)"
      ]
    },
    {
      "cell_type": "markdown",
      "metadata": {
        "id": "dKiAb5pUgl06"
      },
      "source": [
        "**Warning**: `model.predict_classes(X_new)` is deprecated. It is replaced with `np.argmax(model.predict(X_new), axis=-1)`."
      ]
    },
    {
      "cell_type": "code",
      "execution_count": 240,
      "metadata": {
        "id": "wnFK0tcUgl06",
        "outputId": "eec23fc0-f5b0-4e7b-a168-bf5bb6274b1b",
        "colab": {
          "base_uri": "https://localhost:8080/"
        }
      },
      "outputs": [
        {
          "output_type": "stream",
          "name": "stdout",
          "text": [
            "1/1 [==============================] - 0s 34ms/step\n"
          ]
        },
        {
          "output_type": "execute_result",
          "data": {
            "text/plain": [
              "array([9, 2, 1])"
            ]
          },
          "metadata": {},
          "execution_count": 240
        }
      ],
      "source": [
        "#y_pred = model.predict_classes(X_new) # deprecated\n",
        "y_pred = np.argmax(model.predict(X_new), axis=-1)\n",
        "y_pred"
      ]
    },
    {
      "cell_type": "code",
      "execution_count": 241,
      "metadata": {
        "id": "sWrbgT52gl06",
        "outputId": "170fb18f-f469-4d5d-e065-b00aed0d3495",
        "colab": {
          "base_uri": "https://localhost:8080/"
        }
      },
      "outputs": [
        {
          "output_type": "execute_result",
          "data": {
            "text/plain": [
              "array(['Ankle boot', 'Pullover', 'Trouser'], dtype='<U11')"
            ]
          },
          "metadata": {},
          "execution_count": 241
        }
      ],
      "source": [
        "np.array(class_names)[y_pred]"
      ]
    },
    {
      "cell_type": "code",
      "execution_count": 242,
      "metadata": {
        "id": "iWWZxUDtgl06",
        "outputId": "8ec2dbc4-48d2-43f2-9503-fb85c0eaef40",
        "colab": {
          "base_uri": "https://localhost:8080/"
        }
      },
      "outputs": [
        {
          "output_type": "execute_result",
          "data": {
            "text/plain": [
              "array([9, 2, 1], dtype=uint8)"
            ]
          },
          "metadata": {},
          "execution_count": 242
        }
      ],
      "source": [
        "y_new = y_test[:3]\n",
        "y_new"
      ]
    },
    {
      "cell_type": "code",
      "execution_count": 244,
      "metadata": {
        "id": "Iac5r9V1gl07",
        "outputId": "dcd2b59b-e2cb-4189-f51f-94e1a765f026",
        "colab": {
          "base_uri": "https://localhost:8080/",
          "height": 223
        }
      },
      "outputs": [
        {
          "output_type": "display_data",
          "data": {
            "text/plain": [
              "<Figure size 720x240 with 3 Axes>"
            ],
            "image/png": "[encoded data removed]"
          },
          "metadata": {}
        }
      ],
      "source": [
        "plt.figure(figsize=(7.2, 2.4))\n",
        "for index, image in enumerate(X_new):\n",
        "    plt.subplot(1, 3, index + 1)\n",
        "    plt.imshow(image, cmap=\"binary\", interpolation=\"nearest\")\n",
        "    plt.axis('off')\n",
        "    plt.title(class_names[y_test[index]], fontsize=12)\n",
        "plt.subplots_adjust(wspace=0.2, hspace=0.5)\n",
        "# save_fig('fashion_mnist_images_plot', tight_layout=False)\n",
        "plt.show()"
      ]
    },
    {
      "cell_type": "code",
      "execution_count": null,
      "metadata": {
        "id": "jhTuJ9Wcgl1S"
      },
      "outputs": [],
      "source": []
    }
  ],
  "metadata": {
    "kernelspec": {
      "display_name": "Python 3",
      "language": "python",
      "name": "python3"
    },
    "language_info": {
      "codemirror_mode": {
        "name": "ipython",
        "version": 3
      },
      "file_extension": ".py",
      "mimetype": "text/x-python",
      "name": "python",
      "nbconvert_exporter": "python",
      "pygments_lexer": "ipython3",
      "version": "3.7.10"
    },
    "nav_menu": {
      "height": "264px",
      "width": "369px"
    },
    "toc": {
      "navigate_menu": true,
      "number_sections": true,
      "sideBar": true,
      "threshold": 6,
      "toc_cell": false,
      "toc_section_display": "block",
      "toc_window_display": false
    },
    "colab": {
      "provenance": [],
      "include_colab_link": true
    }
  },
  "nbformat": 4,
  "nbformat_minor": 0
}